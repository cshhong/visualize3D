{
  "nbformat": 4,
  "nbformat_minor": 0,
  "metadata": {
    "colab": {
      "provenance": [],
      "authorship_tag": "ABX9TyMzC8uIXMKPTzgFMNcDIC3G",
      "include_colab_link": true
    },
    "kernelspec": {
      "name": "python3",
      "display_name": "Python 3"
    },
    "language_info": {
      "name": "python"
    },
    "gpuClass": "standard",
    "widgets": {
      "application/vnd.jupyter.widget-state+json": {
        "00d9b892d038497e8b613c3b97f521de": {
          "model_module": "@jupyter-widgets/controls",
          "model_name": "HBoxModel",
          "model_module_version": "1.5.0",
          "state": {
            "_dom_classes": [],
            "_model_module": "@jupyter-widgets/controls",
            "_model_module_version": "1.5.0",
            "_model_name": "HBoxModel",
            "_view_count": null,
            "_view_module": "@jupyter-widgets/controls",
            "_view_module_version": "1.5.0",
            "_view_name": "HBoxView",
            "box_style": "",
            "children": [
              "IPY_MODEL_8b39374ee3cd4d8cac4de55c6b8f4313",
              "IPY_MODEL_0b0132db253a49e787e14f5871a1f79d",
              "IPY_MODEL_7c4d156f5feb40ca92d2f9cef0c4708d"
            ],
            "layout": "IPY_MODEL_7da9dc2992d64bb6a1edd7cf8547b56c"
          }
        },
        "8b39374ee3cd4d8cac4de55c6b8f4313": {
          "model_module": "@jupyter-widgets/controls",
          "model_name": "HTMLModel",
          "model_module_version": "1.5.0",
          "state": {
            "_dom_classes": [],
            "_model_module": "@jupyter-widgets/controls",
            "_model_module_version": "1.5.0",
            "_model_name": "HTMLModel",
            "_view_count": null,
            "_view_module": "@jupyter-widgets/controls",
            "_view_module_version": "1.5.0",
            "_view_name": "HTMLView",
            "description": "",
            "description_tooltip": null,
            "layout": "IPY_MODEL_5a023054d522496a9509b7c5f755d249",
            "placeholder": "​",
            "style": "IPY_MODEL_9436530cd9d4481ca1808d57659997e5",
            "value": "100%"
          }
        },
        "0b0132db253a49e787e14f5871a1f79d": {
          "model_module": "@jupyter-widgets/controls",
          "model_name": "FloatProgressModel",
          "model_module_version": "1.5.0",
          "state": {
            "_dom_classes": [],
            "_model_module": "@jupyter-widgets/controls",
            "_model_module_version": "1.5.0",
            "_model_name": "FloatProgressModel",
            "_view_count": null,
            "_view_module": "@jupyter-widgets/controls",
            "_view_module_version": "1.5.0",
            "_view_name": "ProgressView",
            "bar_style": "success",
            "description": "",
            "description_tooltip": null,
            "layout": "IPY_MODEL_7a60b615697c4e9faa8fe592b5b6f369",
            "max": 20,
            "min": 0,
            "orientation": "horizontal",
            "style": "IPY_MODEL_bedcbc88a77347f2a87ad49daf7653a9",
            "value": 20
          }
        },
        "7c4d156f5feb40ca92d2f9cef0c4708d": {
          "model_module": "@jupyter-widgets/controls",
          "model_name": "HTMLModel",
          "model_module_version": "1.5.0",
          "state": {
            "_dom_classes": [],
            "_model_module": "@jupyter-widgets/controls",
            "_model_module_version": "1.5.0",
            "_model_name": "HTMLModel",
            "_view_count": null,
            "_view_module": "@jupyter-widgets/controls",
            "_view_module_version": "1.5.0",
            "_view_name": "HTMLView",
            "description": "",
            "description_tooltip": null,
            "layout": "IPY_MODEL_b21db129d0404998a360202927e6032f",
            "placeholder": "​",
            "style": "IPY_MODEL_102818d7f4d9402281ccb79c7ed987ad",
            "value": " 20/20 [01:37&lt;00:00,  5.00s/it]"
          }
        },
        "7da9dc2992d64bb6a1edd7cf8547b56c": {
          "model_module": "@jupyter-widgets/base",
          "model_name": "LayoutModel",
          "model_module_version": "1.2.0",
          "state": {
            "_model_module": "@jupyter-widgets/base",
            "_model_module_version": "1.2.0",
            "_model_name": "LayoutModel",
            "_view_count": null,
            "_view_module": "@jupyter-widgets/base",
            "_view_module_version": "1.2.0",
            "_view_name": "LayoutView",
            "align_content": null,
            "align_items": null,
            "align_self": null,
            "border": null,
            "bottom": null,
            "display": null,
            "flex": null,
            "flex_flow": null,
            "grid_area": null,
            "grid_auto_columns": null,
            "grid_auto_flow": null,
            "grid_auto_rows": null,
            "grid_column": null,
            "grid_gap": null,
            "grid_row": null,
            "grid_template_areas": null,
            "grid_template_columns": null,
            "grid_template_rows": null,
            "height": null,
            "justify_content": null,
            "justify_items": null,
            "left": null,
            "margin": null,
            "max_height": null,
            "max_width": null,
            "min_height": null,
            "min_width": null,
            "object_fit": null,
            "object_position": null,
            "order": null,
            "overflow": null,
            "overflow_x": null,
            "overflow_y": null,
            "padding": null,
            "right": null,
            "top": null,
            "visibility": null,
            "width": null
          }
        },
        "5a023054d522496a9509b7c5f755d249": {
          "model_module": "@jupyter-widgets/base",
          "model_name": "LayoutModel",
          "model_module_version": "1.2.0",
          "state": {
            "_model_module": "@jupyter-widgets/base",
            "_model_module_version": "1.2.0",
            "_model_name": "LayoutModel",
            "_view_count": null,
            "_view_module": "@jupyter-widgets/base",
            "_view_module_version": "1.2.0",
            "_view_name": "LayoutView",
            "align_content": null,
            "align_items": null,
            "align_self": null,
            "border": null,
            "bottom": null,
            "display": null,
            "flex": null,
            "flex_flow": null,
            "grid_area": null,
            "grid_auto_columns": null,
            "grid_auto_flow": null,
            "grid_auto_rows": null,
            "grid_column": null,
            "grid_gap": null,
            "grid_row": null,
            "grid_template_areas": null,
            "grid_template_columns": null,
            "grid_template_rows": null,
            "height": null,
            "justify_content": null,
            "justify_items": null,
            "left": null,
            "margin": null,
            "max_height": null,
            "max_width": null,
            "min_height": null,
            "min_width": null,
            "object_fit": null,
            "object_position": null,
            "order": null,
            "overflow": null,
            "overflow_x": null,
            "overflow_y": null,
            "padding": null,
            "right": null,
            "top": null,
            "visibility": null,
            "width": null
          }
        },
        "9436530cd9d4481ca1808d57659997e5": {
          "model_module": "@jupyter-widgets/controls",
          "model_name": "DescriptionStyleModel",
          "model_module_version": "1.5.0",
          "state": {
            "_model_module": "@jupyter-widgets/controls",
            "_model_module_version": "1.5.0",
            "_model_name": "DescriptionStyleModel",
            "_view_count": null,
            "_view_module": "@jupyter-widgets/base",
            "_view_module_version": "1.2.0",
            "_view_name": "StyleView",
            "description_width": ""
          }
        },
        "7a60b615697c4e9faa8fe592b5b6f369": {
          "model_module": "@jupyter-widgets/base",
          "model_name": "LayoutModel",
          "model_module_version": "1.2.0",
          "state": {
            "_model_module": "@jupyter-widgets/base",
            "_model_module_version": "1.2.0",
            "_model_name": "LayoutModel",
            "_view_count": null,
            "_view_module": "@jupyter-widgets/base",
            "_view_module_version": "1.2.0",
            "_view_name": "LayoutView",
            "align_content": null,
            "align_items": null,
            "align_self": null,
            "border": null,
            "bottom": null,
            "display": null,
            "flex": null,
            "flex_flow": null,
            "grid_area": null,
            "grid_auto_columns": null,
            "grid_auto_flow": null,
            "grid_auto_rows": null,
            "grid_column": null,
            "grid_gap": null,
            "grid_row": null,
            "grid_template_areas": null,
            "grid_template_columns": null,
            "grid_template_rows": null,
            "height": null,
            "justify_content": null,
            "justify_items": null,
            "left": null,
            "margin": null,
            "max_height": null,
            "max_width": null,
            "min_height": null,
            "min_width": null,
            "object_fit": null,
            "object_position": null,
            "order": null,
            "overflow": null,
            "overflow_x": null,
            "overflow_y": null,
            "padding": null,
            "right": null,
            "top": null,
            "visibility": null,
            "width": null
          }
        },
        "bedcbc88a77347f2a87ad49daf7653a9": {
          "model_module": "@jupyter-widgets/controls",
          "model_name": "ProgressStyleModel",
          "model_module_version": "1.5.0",
          "state": {
            "_model_module": "@jupyter-widgets/controls",
            "_model_module_version": "1.5.0",
            "_model_name": "ProgressStyleModel",
            "_view_count": null,
            "_view_module": "@jupyter-widgets/base",
            "_view_module_version": "1.2.0",
            "_view_name": "StyleView",
            "bar_color": null,
            "description_width": ""
          }
        },
        "b21db129d0404998a360202927e6032f": {
          "model_module": "@jupyter-widgets/base",
          "model_name": "LayoutModel",
          "model_module_version": "1.2.0",
          "state": {
            "_model_module": "@jupyter-widgets/base",
            "_model_module_version": "1.2.0",
            "_model_name": "LayoutModel",
            "_view_count": null,
            "_view_module": "@jupyter-widgets/base",
            "_view_module_version": "1.2.0",
            "_view_name": "LayoutView",
            "align_content": null,
            "align_items": null,
            "align_self": null,
            "border": null,
            "bottom": null,
            "display": null,
            "flex": null,
            "flex_flow": null,
            "grid_area": null,
            "grid_auto_columns": null,
            "grid_auto_flow": null,
            "grid_auto_rows": null,
            "grid_column": null,
            "grid_gap": null,
            "grid_row": null,
            "grid_template_areas": null,
            "grid_template_columns": null,
            "grid_template_rows": null,
            "height": null,
            "justify_content": null,
            "justify_items": null,
            "left": null,
            "margin": null,
            "max_height": null,
            "max_width": null,
            "min_height": null,
            "min_width": null,
            "object_fit": null,
            "object_position": null,
            "order": null,
            "overflow": null,
            "overflow_x": null,
            "overflow_y": null,
            "padding": null,
            "right": null,
            "top": null,
            "visibility": null,
            "width": null
          }
        },
        "102818d7f4d9402281ccb79c7ed987ad": {
          "model_module": "@jupyter-widgets/controls",
          "model_name": "DescriptionStyleModel",
          "model_module_version": "1.5.0",
          "state": {
            "_model_module": "@jupyter-widgets/controls",
            "_model_module_version": "1.5.0",
            "_model_name": "DescriptionStyleModel",
            "_view_count": null,
            "_view_module": "@jupyter-widgets/base",
            "_view_module_version": "1.2.0",
            "_view_name": "StyleView",
            "description_width": ""
          }
        },
        "9ca472a799b94688804f45b9113ce72c": {
          "model_module": "@jupyter-widgets/controls",
          "model_name": "HBoxModel",
          "model_module_version": "1.5.0",
          "state": {
            "_dom_classes": [],
            "_model_module": "@jupyter-widgets/controls",
            "_model_module_version": "1.5.0",
            "_model_name": "HBoxModel",
            "_view_count": null,
            "_view_module": "@jupyter-widgets/controls",
            "_view_module_version": "1.5.0",
            "_view_name": "HBoxView",
            "box_style": "",
            "children": [
              "IPY_MODEL_5fbea0ac43114671b181d37672c2d0be",
              "IPY_MODEL_f0d85c84023542939fb8d3bc5e364b6f",
              "IPY_MODEL_caa57791703a4f6ab709a27622b078fb"
            ],
            "layout": "IPY_MODEL_9862c030e26145e2b4a2552ac66c3662"
          }
        },
        "5fbea0ac43114671b181d37672c2d0be": {
          "model_module": "@jupyter-widgets/controls",
          "model_name": "HTMLModel",
          "model_module_version": "1.5.0",
          "state": {
            "_dom_classes": [],
            "_model_module": "@jupyter-widgets/controls",
            "_model_module_version": "1.5.0",
            "_model_name": "HTMLModel",
            "_view_count": null,
            "_view_module": "@jupyter-widgets/controls",
            "_view_module_version": "1.5.0",
            "_view_name": "HTMLView",
            "description": "",
            "description_tooltip": null,
            "layout": "IPY_MODEL_c17ea521670d4753893c781d4e4716f7",
            "placeholder": "​",
            "style": "IPY_MODEL_94a6d46ff41041ee951b111870c3888f",
            "value": "100%"
          }
        },
        "f0d85c84023542939fb8d3bc5e364b6f": {
          "model_module": "@jupyter-widgets/controls",
          "model_name": "FloatProgressModel",
          "model_module_version": "1.5.0",
          "state": {
            "_dom_classes": [],
            "_model_module": "@jupyter-widgets/controls",
            "_model_module_version": "1.5.0",
            "_model_name": "FloatProgressModel",
            "_view_count": null,
            "_view_module": "@jupyter-widgets/controls",
            "_view_module_version": "1.5.0",
            "_view_name": "ProgressView",
            "bar_style": "success",
            "description": "",
            "description_tooltip": null,
            "layout": "IPY_MODEL_94381f020902444c82a728aa80cf8e3a",
            "max": 20,
            "min": 0,
            "orientation": "horizontal",
            "style": "IPY_MODEL_0bd64e1d236f4d3a8996b0b9c994d8e3",
            "value": 20
          }
        },
        "caa57791703a4f6ab709a27622b078fb": {
          "model_module": "@jupyter-widgets/controls",
          "model_name": "HTMLModel",
          "model_module_version": "1.5.0",
          "state": {
            "_dom_classes": [],
            "_model_module": "@jupyter-widgets/controls",
            "_model_module_version": "1.5.0",
            "_model_name": "HTMLModel",
            "_view_count": null,
            "_view_module": "@jupyter-widgets/controls",
            "_view_module_version": "1.5.0",
            "_view_name": "HTMLView",
            "description": "",
            "description_tooltip": null,
            "layout": "IPY_MODEL_cff60625fcfb47a0931779ee9e594203",
            "placeholder": "​",
            "style": "IPY_MODEL_2f8c5e35f5b541c18f4e5bb12a4578e6",
            "value": " 20/20 [00:07&lt;00:00,  3.29it/s]"
          }
        },
        "9862c030e26145e2b4a2552ac66c3662": {
          "model_module": "@jupyter-widgets/base",
          "model_name": "LayoutModel",
          "model_module_version": "1.2.0",
          "state": {
            "_model_module": "@jupyter-widgets/base",
            "_model_module_version": "1.2.0",
            "_model_name": "LayoutModel",
            "_view_count": null,
            "_view_module": "@jupyter-widgets/base",
            "_view_module_version": "1.2.0",
            "_view_name": "LayoutView",
            "align_content": null,
            "align_items": null,
            "align_self": null,
            "border": null,
            "bottom": null,
            "display": null,
            "flex": null,
            "flex_flow": null,
            "grid_area": null,
            "grid_auto_columns": null,
            "grid_auto_flow": null,
            "grid_auto_rows": null,
            "grid_column": null,
            "grid_gap": null,
            "grid_row": null,
            "grid_template_areas": null,
            "grid_template_columns": null,
            "grid_template_rows": null,
            "height": null,
            "justify_content": null,
            "justify_items": null,
            "left": null,
            "margin": null,
            "max_height": null,
            "max_width": null,
            "min_height": null,
            "min_width": null,
            "object_fit": null,
            "object_position": null,
            "order": null,
            "overflow": null,
            "overflow_x": null,
            "overflow_y": null,
            "padding": null,
            "right": null,
            "top": null,
            "visibility": null,
            "width": null
          }
        },
        "c17ea521670d4753893c781d4e4716f7": {
          "model_module": "@jupyter-widgets/base",
          "model_name": "LayoutModel",
          "model_module_version": "1.2.0",
          "state": {
            "_model_module": "@jupyter-widgets/base",
            "_model_module_version": "1.2.0",
            "_model_name": "LayoutModel",
            "_view_count": null,
            "_view_module": "@jupyter-widgets/base",
            "_view_module_version": "1.2.0",
            "_view_name": "LayoutView",
            "align_content": null,
            "align_items": null,
            "align_self": null,
            "border": null,
            "bottom": null,
            "display": null,
            "flex": null,
            "flex_flow": null,
            "grid_area": null,
            "grid_auto_columns": null,
            "grid_auto_flow": null,
            "grid_auto_rows": null,
            "grid_column": null,
            "grid_gap": null,
            "grid_row": null,
            "grid_template_areas": null,
            "grid_template_columns": null,
            "grid_template_rows": null,
            "height": null,
            "justify_content": null,
            "justify_items": null,
            "left": null,
            "margin": null,
            "max_height": null,
            "max_width": null,
            "min_height": null,
            "min_width": null,
            "object_fit": null,
            "object_position": null,
            "order": null,
            "overflow": null,
            "overflow_x": null,
            "overflow_y": null,
            "padding": null,
            "right": null,
            "top": null,
            "visibility": null,
            "width": null
          }
        },
        "94a6d46ff41041ee951b111870c3888f": {
          "model_module": "@jupyter-widgets/controls",
          "model_name": "DescriptionStyleModel",
          "model_module_version": "1.5.0",
          "state": {
            "_model_module": "@jupyter-widgets/controls",
            "_model_module_version": "1.5.0",
            "_model_name": "DescriptionStyleModel",
            "_view_count": null,
            "_view_module": "@jupyter-widgets/base",
            "_view_module_version": "1.2.0",
            "_view_name": "StyleView",
            "description_width": ""
          }
        },
        "94381f020902444c82a728aa80cf8e3a": {
          "model_module": "@jupyter-widgets/base",
          "model_name": "LayoutModel",
          "model_module_version": "1.2.0",
          "state": {
            "_model_module": "@jupyter-widgets/base",
            "_model_module_version": "1.2.0",
            "_model_name": "LayoutModel",
            "_view_count": null,
            "_view_module": "@jupyter-widgets/base",
            "_view_module_version": "1.2.0",
            "_view_name": "LayoutView",
            "align_content": null,
            "align_items": null,
            "align_self": null,
            "border": null,
            "bottom": null,
            "display": null,
            "flex": null,
            "flex_flow": null,
            "grid_area": null,
            "grid_auto_columns": null,
            "grid_auto_flow": null,
            "grid_auto_rows": null,
            "grid_column": null,
            "grid_gap": null,
            "grid_row": null,
            "grid_template_areas": null,
            "grid_template_columns": null,
            "grid_template_rows": null,
            "height": null,
            "justify_content": null,
            "justify_items": null,
            "left": null,
            "margin": null,
            "max_height": null,
            "max_width": null,
            "min_height": null,
            "min_width": null,
            "object_fit": null,
            "object_position": null,
            "order": null,
            "overflow": null,
            "overflow_x": null,
            "overflow_y": null,
            "padding": null,
            "right": null,
            "top": null,
            "visibility": null,
            "width": null
          }
        },
        "0bd64e1d236f4d3a8996b0b9c994d8e3": {
          "model_module": "@jupyter-widgets/controls",
          "model_name": "ProgressStyleModel",
          "model_module_version": "1.5.0",
          "state": {
            "_model_module": "@jupyter-widgets/controls",
            "_model_module_version": "1.5.0",
            "_model_name": "ProgressStyleModel",
            "_view_count": null,
            "_view_module": "@jupyter-widgets/base",
            "_view_module_version": "1.2.0",
            "_view_name": "StyleView",
            "bar_color": null,
            "description_width": ""
          }
        },
        "cff60625fcfb47a0931779ee9e594203": {
          "model_module": "@jupyter-widgets/base",
          "model_name": "LayoutModel",
          "model_module_version": "1.2.0",
          "state": {
            "_model_module": "@jupyter-widgets/base",
            "_model_module_version": "1.2.0",
            "_model_name": "LayoutModel",
            "_view_count": null,
            "_view_module": "@jupyter-widgets/base",
            "_view_module_version": "1.2.0",
            "_view_name": "LayoutView",
            "align_content": null,
            "align_items": null,
            "align_self": null,
            "border": null,
            "bottom": null,
            "display": null,
            "flex": null,
            "flex_flow": null,
            "grid_area": null,
            "grid_auto_columns": null,
            "grid_auto_flow": null,
            "grid_auto_rows": null,
            "grid_column": null,
            "grid_gap": null,
            "grid_row": null,
            "grid_template_areas": null,
            "grid_template_columns": null,
            "grid_template_rows": null,
            "height": null,
            "justify_content": null,
            "justify_items": null,
            "left": null,
            "margin": null,
            "max_height": null,
            "max_width": null,
            "min_height": null,
            "min_width": null,
            "object_fit": null,
            "object_position": null,
            "order": null,
            "overflow": null,
            "overflow_x": null,
            "overflow_y": null,
            "padding": null,
            "right": null,
            "top": null,
            "visibility": null,
            "width": null
          }
        },
        "2f8c5e35f5b541c18f4e5bb12a4578e6": {
          "model_module": "@jupyter-widgets/controls",
          "model_name": "DescriptionStyleModel",
          "model_module_version": "1.5.0",
          "state": {
            "_model_module": "@jupyter-widgets/controls",
            "_model_module_version": "1.5.0",
            "_model_name": "DescriptionStyleModel",
            "_view_count": null,
            "_view_module": "@jupyter-widgets/base",
            "_view_module_version": "1.2.0",
            "_view_name": "StyleView",
            "description_width": ""
          }
        }
      }
    }
  },
  "cells": [
    {
      "cell_type": "markdown",
      "metadata": {
        "id": "view-in-github",
        "colab_type": "text"
      },
      "source": [
        "<a href=\"https://colab.research.google.com/github/soohwahong/visualize3D/blob/main/visualize3d.ipynb\" target=\"_parent\"><img src=\"https://colab.research.google.com/assets/colab-badge.svg\" alt=\"Open In Colab\"/></a>"
      ]
    },
    {
      "cell_type": "code",
      "source": [
        "#@title mount your Google Drive\n",
        "\n",
        "import os\n",
        "from google.colab import drive\n",
        "drive.mount('/content/gdrive')"
      ],
      "metadata": {
        "colab": {
          "base_uri": "https://localhost:8080/"
        },
        "id": "0VcuJAAwQ7Fr",
        "outputId": "e957b85d-5bdb-428a-fdc4-2714fb5b5613"
      },
      "execution_count": 1,
      "outputs": [
        {
          "output_type": "stream",
          "name": "stdout",
          "text": [
            "Mounted at /content/gdrive\n"
          ]
        }
      ]
    },
    {
      "cell_type": "code",
      "source": [
        "%cd /content/gdrive/MyDrive/2023Spring/visualize3d"
      ],
      "metadata": {
        "colab": {
          "base_uri": "https://localhost:8080/"
        },
        "id": "oN0NnCjuQlCX",
        "outputId": "011e6fa7-2b6e-4a29-860c-79aadb52f221"
      },
      "execution_count": 2,
      "outputs": [
        {
          "output_type": "stream",
          "name": "stdout",
          "text": [
            "/content/gdrive/MyDrive/2023Spring/visualize3d\n"
          ]
        }
      ]
    },
    {
      "cell_type": "code",
      "source": [
        "!pip install imageio\n",
        "!pip install matplotlib\n",
        "!pip install numpy\n",
        "!pip install PyMCubes\n",
        "!pip install tqdm\n",
        "!pip install scipy\n",
        "!pip install plotly"
      ],
      "metadata": {
        "colab": {
          "base_uri": "https://localhost:8080/"
        },
        "id": "Er-dyvp6Wmc5",
        "outputId": "b06bc360-813a-47b7-8697-c3f4ad6c691b"
      },
      "execution_count": 3,
      "outputs": [
        {
          "output_type": "stream",
          "name": "stdout",
          "text": [
            "Looking in indexes: https://pypi.org/simple, https://us-python.pkg.dev/colab-wheels/public/simple/\n",
            "Requirement already satisfied: imageio in /usr/local/lib/python3.9/dist-packages (2.9.0)\n",
            "Requirement already satisfied: pillow in /usr/local/lib/python3.9/dist-packages (from imageio) (8.4.0)\n",
            "Requirement already satisfied: numpy in /usr/local/lib/python3.9/dist-packages (from imageio) (1.22.4)\n",
            "Looking in indexes: https://pypi.org/simple, https://us-python.pkg.dev/colab-wheels/public/simple/\n",
            "Requirement already satisfied: matplotlib in /usr/local/lib/python3.9/dist-packages (3.7.1)\n",
            "Requirement already satisfied: pillow>=6.2.0 in /usr/local/lib/python3.9/dist-packages (from matplotlib) (8.4.0)\n",
            "Requirement already satisfied: fonttools>=4.22.0 in /usr/local/lib/python3.9/dist-packages (from matplotlib) (4.39.0)\n",
            "Requirement already satisfied: packaging>=20.0 in /usr/local/lib/python3.9/dist-packages (from matplotlib) (23.0)\n",
            "Requirement already satisfied: pyparsing>=2.3.1 in /usr/local/lib/python3.9/dist-packages (from matplotlib) (3.0.9)\n",
            "Requirement already satisfied: importlib-resources>=3.2.0 in /usr/local/lib/python3.9/dist-packages (from matplotlib) (5.12.0)\n",
            "Requirement already satisfied: python-dateutil>=2.7 in /usr/local/lib/python3.9/dist-packages (from matplotlib) (2.8.2)\n",
            "Requirement already satisfied: contourpy>=1.0.1 in /usr/local/lib/python3.9/dist-packages (from matplotlib) (1.0.7)\n",
            "Requirement already satisfied: numpy>=1.20 in /usr/local/lib/python3.9/dist-packages (from matplotlib) (1.22.4)\n",
            "Requirement already satisfied: cycler>=0.10 in /usr/local/lib/python3.9/dist-packages (from matplotlib) (0.11.0)\n",
            "Requirement already satisfied: kiwisolver>=1.0.1 in /usr/local/lib/python3.9/dist-packages (from matplotlib) (1.4.4)\n",
            "Requirement already satisfied: zipp>=3.1.0 in /usr/local/lib/python3.9/dist-packages (from importlib-resources>=3.2.0->matplotlib) (3.15.0)\n",
            "Requirement already satisfied: six>=1.5 in /usr/local/lib/python3.9/dist-packages (from python-dateutil>=2.7->matplotlib) (1.15.0)\n",
            "Looking in indexes: https://pypi.org/simple, https://us-python.pkg.dev/colab-wheels/public/simple/\n",
            "Requirement already satisfied: numpy in /usr/local/lib/python3.9/dist-packages (1.22.4)\n",
            "Looking in indexes: https://pypi.org/simple, https://us-python.pkg.dev/colab-wheels/public/simple/\n",
            "Collecting PyMCubes\n",
            "  Downloading PyMCubes-0.1.4-cp39-cp39-manylinux_2_17_x86_64.manylinux2014_x86_64.whl (275 kB)\n",
            "\u001b[2K     \u001b[90m━━━━━━━━━━━━━━━━━━━━━━━━━━━━━━━━━━━━━━━\u001b[0m \u001b[32m275.8/275.8 KB\u001b[0m \u001b[31m5.8 MB/s\u001b[0m eta \u001b[36m0:00:00\u001b[0m\n",
            "\u001b[?25hRequirement already satisfied: scipy>=1.0.0 in /usr/local/lib/python3.9/dist-packages (from PyMCubes) (1.10.1)\n",
            "Requirement already satisfied: numpy in /usr/local/lib/python3.9/dist-packages (from PyMCubes) (1.22.4)\n",
            "Installing collected packages: PyMCubes\n",
            "Successfully installed PyMCubes-0.1.4\n",
            "Looking in indexes: https://pypi.org/simple, https://us-python.pkg.dev/colab-wheels/public/simple/\n",
            "Requirement already satisfied: tqdm in /usr/local/lib/python3.9/dist-packages (4.65.0)\n",
            "Looking in indexes: https://pypi.org/simple, https://us-python.pkg.dev/colab-wheels/public/simple/\n",
            "Requirement already satisfied: scipy in /usr/local/lib/python3.9/dist-packages (1.10.1)\n",
            "Requirement already satisfied: numpy<1.27.0,>=1.19.5 in /usr/local/lib/python3.9/dist-packages (from scipy) (1.22.4)\n",
            "Looking in indexes: https://pypi.org/simple, https://us-python.pkg.dev/colab-wheels/public/simple/\n",
            "Requirement already satisfied: plotly in /usr/local/lib/python3.9/dist-packages (5.5.0)\n",
            "Requirement already satisfied: tenacity>=6.2.0 in /usr/local/lib/python3.9/dist-packages (from plotly) (8.2.2)\n",
            "Requirement already satisfied: six in /usr/local/lib/python3.9/dist-packages (from plotly) (1.15.0)\n"
          ]
        }
      ]
    },
    {
      "cell_type": "markdown",
      "source": [
        "Install pytorch3d"
      ],
      "metadata": {
        "id": "0yk6FKqDPsbX"
      }
    },
    {
      "cell_type": "code",
      "source": [
        "# install pytorch3d https://github.com/facebookresearch/pytorch3d/blob/main/INSTALL.md\n",
        "import sys\n",
        "import torch\n",
        "pyt_version_str=torch.__version__.split(\"+\")[0].replace(\".\", \"\")\n",
        "version_str=\"\".join([\n",
        "    f\"py3{sys.version_info.minor}_cu\",\n",
        "    torch.version.cuda.replace(\".\",\"\"),\n",
        "    f\"_pyt{pyt_version_str}\"\n",
        "])\n",
        "!pip install fvcore iopath\n",
        "!pip install --no-index --no-cache-dir pytorch3d -f https://dl.fbaipublicfiles.com/pytorch3d/packaging/wheels/{version_str}/download.html"
      ],
      "metadata": {
        "colab": {
          "base_uri": "https://localhost:8080/"
        },
        "id": "mkQq6SN_Pu5r",
        "outputId": "8a9d447d-c4f4-4031-f9b0-29edb380ab61"
      },
      "execution_count": 4,
      "outputs": [
        {
          "output_type": "stream",
          "name": "stdout",
          "text": [
            "Looking in indexes: https://pypi.org/simple, https://us-python.pkg.dev/colab-wheels/public/simple/\n",
            "Collecting fvcore\n",
            "  Downloading fvcore-0.1.5.post20221221.tar.gz (50 kB)\n",
            "\u001b[2K     \u001b[90m━━━━━━━━━━━━━━━━━━━━━━━━━━━━━━━━━━━━━━━━\u001b[0m \u001b[32m50.2/50.2 KB\u001b[0m \u001b[31m2.0 MB/s\u001b[0m eta \u001b[36m0:00:00\u001b[0m\n",
            "\u001b[?25h  Preparing metadata (setup.py) ... \u001b[?25l\u001b[?25hdone\n",
            "Collecting iopath\n",
            "  Downloading iopath-0.1.10.tar.gz (42 kB)\n",
            "\u001b[2K     \u001b[90m━━━━━━━━━━━━━━━━━━━━━━━━━━━━━━━━━━━━━━━━\u001b[0m \u001b[32m42.2/42.2 KB\u001b[0m \u001b[31m4.2 MB/s\u001b[0m eta \u001b[36m0:00:00\u001b[0m\n",
            "\u001b[?25h  Preparing metadata (setup.py) ... \u001b[?25l\u001b[?25hdone\n",
            "Requirement already satisfied: numpy in /usr/local/lib/python3.9/dist-packages (from fvcore) (1.22.4)\n",
            "Collecting yacs>=0.1.6\n",
            "  Downloading yacs-0.1.8-py3-none-any.whl (14 kB)\n",
            "Requirement already satisfied: pyyaml>=5.1 in /usr/local/lib/python3.9/dist-packages (from fvcore) (6.0)\n",
            "Requirement already satisfied: tqdm in /usr/local/lib/python3.9/dist-packages (from fvcore) (4.65.0)\n",
            "Requirement already satisfied: termcolor>=1.1 in /usr/local/lib/python3.9/dist-packages (from fvcore) (2.2.0)\n",
            "Requirement already satisfied: Pillow in /usr/local/lib/python3.9/dist-packages (from fvcore) (8.4.0)\n",
            "Requirement already satisfied: tabulate in /usr/local/lib/python3.9/dist-packages (from fvcore) (0.8.10)\n",
            "Requirement already satisfied: typing_extensions in /usr/local/lib/python3.9/dist-packages (from iopath) (4.5.0)\n",
            "Collecting portalocker\n",
            "  Downloading portalocker-2.7.0-py2.py3-none-any.whl (15 kB)\n",
            "Building wheels for collected packages: fvcore, iopath\n",
            "  Building wheel for fvcore (setup.py) ... \u001b[?25l\u001b[?25hdone\n",
            "  Created wheel for fvcore: filename=fvcore-0.1.5.post20221221-py3-none-any.whl size=61429 sha256=96c26bb5bfbe25a4046bf05df483a62276e4271dd64d2e7809f2b67005c8da6b\n",
            "  Stored in directory: /root/.cache/pip/wheels/83/42/02/66178d16e5c44dc26d309931834956baeda371956e86fbd876\n",
            "  Building wheel for iopath (setup.py) ... \u001b[?25l\u001b[?25hdone\n",
            "  Created wheel for iopath: filename=iopath-0.1.10-py3-none-any.whl size=31547 sha256=f1f469f2e3734b87ad399abcfec6d5bf1db7de4522ef98abe763cf4cdd85a60c\n",
            "  Stored in directory: /root/.cache/pip/wheels/c1/13/6d/441d8f2af76ee6d2a3e67eebb1d0c556fefcee0a8b32266a8e\n",
            "Successfully built fvcore iopath\n",
            "Installing collected packages: yacs, portalocker, iopath, fvcore\n",
            "Successfully installed fvcore-0.1.5.post20221221 iopath-0.1.10 portalocker-2.7.0 yacs-0.1.8\n",
            "Looking in links: https://dl.fbaipublicfiles.com/pytorch3d/packaging/wheels/py39_cu116_pyt1131/download.html\n",
            "Collecting pytorch3d\n",
            "  Downloading https://dl.fbaipublicfiles.com/pytorch3d/packaging/wheels/py39_cu116_pyt1131/pytorch3d-0.7.2-cp39-cp39-linux_x86_64.whl (20.2 MB)\n",
            "\u001b[2K     \u001b[90m━━━━━━━━━━━━━━━━━━━━━━━━━━━━━━━━━━━━━━━━\u001b[0m \u001b[32m20.2/20.2 MB\u001b[0m \u001b[31m50.2 MB/s\u001b[0m eta \u001b[36m0:00:00\u001b[0m\n",
            "\u001b[?25hRequirement already satisfied: iopath in /usr/local/lib/python3.9/dist-packages (from pytorch3d) (0.1.10)\n",
            "Requirement already satisfied: fvcore in /usr/local/lib/python3.9/dist-packages (from pytorch3d) (0.1.5.post20221221)\n",
            "Requirement already satisfied: tabulate in /usr/local/lib/python3.9/dist-packages (from fvcore->pytorch3d) (0.8.10)\n",
            "Requirement already satisfied: termcolor>=1.1 in /usr/local/lib/python3.9/dist-packages (from fvcore->pytorch3d) (2.2.0)\n",
            "Requirement already satisfied: tqdm in /usr/local/lib/python3.9/dist-packages (from fvcore->pytorch3d) (4.65.0)\n",
            "Requirement already satisfied: numpy in /usr/local/lib/python3.9/dist-packages (from fvcore->pytorch3d) (1.22.4)\n",
            "Requirement already satisfied: yacs>=0.1.6 in /usr/local/lib/python3.9/dist-packages (from fvcore->pytorch3d) (0.1.8)\n",
            "Requirement already satisfied: Pillow in /usr/local/lib/python3.9/dist-packages (from fvcore->pytorch3d) (8.4.0)\n",
            "Requirement already satisfied: pyyaml>=5.1 in /usr/local/lib/python3.9/dist-packages (from fvcore->pytorch3d) (6.0)\n",
            "Requirement already satisfied: portalocker in /usr/local/lib/python3.9/dist-packages (from iopath->pytorch3d) (2.7.0)\n",
            "Requirement already satisfied: typing-extensions in /usr/local/lib/python3.9/dist-packages (from iopath->pytorch3d) (4.5.0)\n",
            "Installing collected packages: pytorch3d\n",
            "Successfully installed pytorch3d-0.7.2\n"
          ]
        }
      ]
    },
    {
      "cell_type": "markdown",
      "source": [
        "Utilities"
      ],
      "metadata": {
        "id": "nIJBCrnmPUIK"
      }
    },
    {
      "cell_type": "code",
      "execution_count": 27,
      "metadata": {
        "id": "NF3KmqzrPJJr"
      },
      "outputs": [],
      "source": [
        "import torch\n",
        "from pytorch3d.renderer import (\n",
        "    AlphaCompositor,\n",
        "    RasterizationSettings,\n",
        "    MeshRenderer,\n",
        "    MeshRasterizer,\n",
        "    PointsRasterizationSettings,\n",
        "    PointsRenderer,\n",
        "    PointsRasterizer,\n",
        "    HardPhongShader,\n",
        ")\n",
        "from pytorch3d.io import load_obj\n",
        "\n",
        "\n",
        "def get_device():\n",
        "    \"\"\"\n",
        "    Checks if GPU is available and returns device accordingly.\n",
        "    \"\"\"\n",
        "    if torch.cuda.is_available():\n",
        "        device = torch.device(\"cuda:0\")\n",
        "    else:\n",
        "        device = torch.device(\"cpu\")\n",
        "    return device\n",
        "\n",
        "\n",
        "def get_points_renderer(\n",
        "    image_size=512, device=None, radius=0.01, background_color=(1, 1, 1)\n",
        "):\n",
        "    \"\"\"\n",
        "    Returns a Pytorch3D renderer for point clouds.\n",
        "\n",
        "    Args:\n",
        "        image_size (int): The rendered image size.\n",
        "        device (torch.device): The torch device to use (CPU or GPU). If not specified,\n",
        "            will automatically use GPU if available, otherwise CPU.\n",
        "        radius (float): The radius of the rendered point in NDC.\n",
        "        background_color (tuple): The background color of the rendered image.\n",
        "    \n",
        "    Returns:\n",
        "        PointsRenderer.\n",
        "    \"\"\"\n",
        "    if device is None:\n",
        "        if torch.cuda.is_available():\n",
        "            device = torch.device(\"cuda:0\")\n",
        "        else:\n",
        "            device = torch.device(\"cpu\")\n",
        "    raster_settings = PointsRasterizationSettings(image_size=image_size, radius=radius,)\n",
        "    renderer = PointsRenderer(\n",
        "        rasterizer=PointsRasterizer(raster_settings=raster_settings),\n",
        "        compositor=AlphaCompositor(background_color=background_color),\n",
        "    )\n",
        "    return renderer\n",
        "\n",
        "\n",
        "def get_mesh_renderer(image_size=512, lights=None, device=None):\n",
        "    \"\"\"\n",
        "    Returns a Pytorch3D Mesh Renderer.\n",
        "\n",
        "    Args:\n",
        "        image_size (int): The rendered image size.\n",
        "        lights: A default Pytorch3D lights object.\n",
        "        device (torch.device): The torch device to use (CPU or GPU). If not specified,\n",
        "            will automatically use GPU if available, otherwise CPU.\n",
        "    \"\"\"\n",
        "    if device is None:\n",
        "        if torch.cuda.is_available():\n",
        "            device = torch.device(\"cuda:0\")\n",
        "        else:\n",
        "            device = torch.device(\"cpu\")\n",
        "    raster_settings = RasterizationSettings(\n",
        "        image_size=image_size, blur_radius=0.0, faces_per_pixel=1,\n",
        "    )\n",
        "    renderer = MeshRenderer(\n",
        "        rasterizer=MeshRasterizer(raster_settings=raster_settings),\n",
        "        shader=HardPhongShader(device=device, lights=lights),\n",
        "    )\n",
        "    return renderer\n",
        "\n",
        "\n",
        "def unproject_depth_image(image, mask, depth, camera):\n",
        "    \"\"\"\n",
        "    Unprojects a depth image into a 3D point cloud.\n",
        "\n",
        "    Args:\n",
        "        image (torch.Tensor): A square image to unproject (S, S, 3).\n",
        "        mask (torch.Tensor): A binary mask for the image (S, S).\n",
        "        depth (torch.Tensor): The depth map of the image (S, S).\n",
        "        camera: The Pytorch3D camera to render the image.\n",
        "    \n",
        "    Returns:\n",
        "        points (torch.Tensor): The 3D points of the unprojected image (N, 3).\n",
        "        rgba (torch.Tensor): The rgba color values corresponding to the unprojected\n",
        "            points (N, 4).\n",
        "    \"\"\"\n",
        "    device = camera.device\n",
        "    assert image.shape[0] == image.shape[1], \"Image must be square.\"\n",
        "    image_shape = image.shape[0]\n",
        "    ndc_pixel_coordinates = torch.linspace(1, -1, image_shape)\n",
        "    Y, X = torch.meshgrid(ndc_pixel_coordinates, ndc_pixel_coordinates) #torch.Size([800, 800]) torch.Size([800, 800])\n",
        "    # xy_depth = torch.dstack([X, Y, depth])\n",
        "    xy_depth = torch.dstack((X, Y, depth)) # torch.Size([800, 800, 3])\n",
        "    points = camera.unproject_points(\n",
        "        xy_depth.to(device), in_ndc=False, from_ndc=False, world_coordinates=True,\n",
        "    )\n",
        "    # print(points.shape)\n",
        "    points = points[mask > 0.5]\n",
        "    rgb = image[mask > 0.5]\n",
        "    rgb = rgb.to(device)\n",
        "\n",
        "    # For some reason, the Pytorch3D compositor does not apply a background color\n",
        "    # unless the pointcloud is RGBA.\n",
        "    alpha = torch.ones_like(rgb)[..., :1]\n",
        "    rgb = torch.cat([rgb, alpha], dim=1)\n",
        "\n",
        "    return points, rgb\n",
        "\n",
        "\n",
        "# def load_cow_mesh(path=\"data/cow.obj\"):\n",
        "#     \"\"\"\n",
        "#     Loads vertices and faces from an obj file.\n",
        "\n",
        "#     Returns:\n",
        "#         vertices (torch.Tensor): The vertices of the mesh (N_v, 3).\n",
        "#         faces (torch.Tensor): The faces of the mesh (N_f, 3).\n",
        "#     \"\"\"\n",
        "#     vertices, faces, _ = load_obj(path)\n",
        "    \n",
        "#     faces = faces.verts_idx\n",
        "#     return vertices, faces\n",
        "\n",
        "\n",
        "\n",
        "def do_sth_fun(\n",
        "    image_size = 256,\n",
        "    num_frames = 20,\n",
        "    duration = 3,\n",
        "    output_file = 'output/goursat_tangle.gif',\n",
        "    voxel_size = 200,\n",
        "    r1 = 1, # outer donut radius\n",
        "    r2 = 0.4, # inner hole radius\n",
        "    device = None,\n",
        "    ):\n",
        "    '''\n",
        "    Reference : https://mathworld.wolfram.com/Tanglecube.html\n",
        "    '''\n",
        "        # Set device\n",
        "    if device == None:\n",
        "        device = get_device()\n",
        "    \n",
        "    # Generate Voxel coordinates\n",
        "    min, max = -5, 5\n",
        "    X, Y, Z = torch.meshgrid([torch.linspace(min, max, voxel_size)] * 3)\n",
        "    a, b, c = 0.0, -5.0, 11.8\n",
        "    voxels = X**4+Y**4+Z**4+a*(X**2+Y**2+Z**2)**2+b*(X**2+Y**2+Z**2)+c\n",
        "    \n",
        "    vertices, faces = mcubes.marching_cubes(mcubes.smooth(voxels), isovalue=0) #\n",
        "    vertices = torch.tensor(vertices).float().unsqueeze(0)\n",
        "    faces = torch.tensor(faces.astype(int)).unsqueeze(0)\n",
        "\n",
        "    # normalize vertices\n",
        "    vertices = (vertices / voxel_size) * (max - min) + min\n",
        "    vertices = vertices/3 # make smaller\n",
        "\n",
        "    textures_rgb = (vertices - vertices.min()) / (vertices.max() - vertices.min())\n",
        "    rotate_360(output_file=output_file, mesh_vertices=vertices, mesh_faces=faces, mesh_textures=textures_rgb)\n",
        "\n",
        "    return None\n",
        "\n"
      ]
    },
    {
      "cell_type": "markdown",
      "source": [
        "# Render Pytorch3D Mesh from obj file"
      ],
      "metadata": {
        "id": "IJK7p8DbTx8o"
      }
    },
    {
      "cell_type": "code",
      "source": [
        "import matplotlib.pyplot as plt\n",
        "import pytorch3d\n",
        "import torch"
      ],
      "metadata": {
        "id": "JqpIZN8oT3or"
      },
      "execution_count": 6,
      "outputs": []
    },
    {
      "cell_type": "code",
      "source": [
        "def get_vf_from_obj(path=\"data/bunny.obj\"):\n",
        "    \"\"\"\n",
        "    Loads vertices and faces from an obj file.\n",
        "\n",
        "    Returns:\n",
        "        vertices (torch.Tensor): The vertices of the mesh (N_v, 3).\n",
        "        faces (torch.Tensor): The faces of the mesh (N_f, 3).\n",
        "    \"\"\"\n",
        "    vertices, faces, _ = load_obj(path)\n",
        "    faces = faces.verts_idx\n",
        "    vertices = vertices.unsqueeze(0)  # (N_v, 3) -> (1, N_v, 3)\n",
        "    faces = faces.unsqueeze(0)  # (N_f, 3) -> (1, N_f, 3)\n",
        "    return vertices, faces"
      ],
      "metadata": {
        "id": "5KktOvXAeV9x"
      },
      "execution_count": 48,
      "outputs": []
    },
    {
      "cell_type": "code",
      "source": [
        "def render_obj(\n",
        "    path=\"data/bunny.obj\",\n",
        "    image_size=256, color=[0.7, 0.7, 1],\n",
        "    device=None,\n",
        "    ):\n",
        "    if device is None:\n",
        "        device = get_device()\n",
        "\n",
        "    # Get the renderer.\n",
        "    renderer = get_mesh_renderer(image_size=image_size)\n",
        "\n",
        "    # Get the vertices, faces, and textures.\n",
        "    # vertices, faces = load_cow_mesh(cow_path)\n",
        "    vertices, faces = get_vf_from_obj(path)\n",
        "    # vertices = vertices.unsqueeze(0)  # (N_v, 3) -> (1, N_v, 3)\n",
        "    # faces = faces.unsqueeze(0)  # (N_f, 3) -> (1, N_f, 3)\n",
        "    textures = torch.ones_like(vertices)  # (1, N_v, 3)\n",
        "    textures = textures * torch.tensor(color)  # (1, N_v, 3)\n",
        "    mesh = pytorch3d.structures.Meshes(\n",
        "        verts=vertices,\n",
        "        faces=faces,\n",
        "        textures=pytorch3d.renderer.TexturesVertex(textures),\n",
        "    )\n",
        "    mesh = mesh.to(device)\n",
        "\n",
        "    # Prepare the camera:\n",
        "    cameras = pytorch3d.renderer.FoVPerspectiveCameras(\n",
        "        R=torch.eye(3).unsqueeze(0), T=torch.tensor([[0, 0, 3]]), fov=60, device=device\n",
        "    )\n",
        "\n",
        "    # Place a point light in front of the cow.\n",
        "    lights = pytorch3d.renderer.PointLights(location=[[0, 0, -3]], device=device)\n",
        "\n",
        "    rend = renderer(mesh, cameras=cameras, lights=lights)\n",
        "    rend = rend.cpu().numpy()[0, ..., :3]  # (B, H, W, 4) -> (H, W, 3)\n",
        "    # The .cpu moves the tensor to GPU (if needed).\n",
        "    return rend"
      ],
      "metadata": {
        "id": "F8BDhlx0UFeG"
      },
      "execution_count": 49,
      "outputs": []
    },
    {
      "cell_type": "code",
      "source": [
        "obj_path=\"data/cow.obj\"\n",
        "image = render_obj(path=obj_path)"
      ],
      "metadata": {
        "id": "IqTekoFTW0yz"
      },
      "execution_count": 50,
      "outputs": []
    },
    {
      "cell_type": "code",
      "source": [
        "plt.imshow(image)"
      ],
      "metadata": {
        "colab": {
          "base_uri": "https://localhost:8080/",
          "height": 287
        },
        "id": "Kxk18-cCUodO",
        "outputId": "f1082a71-8316-4075-9b9f-a335e6321987"
      },
      "execution_count": 51,
      "outputs": [
        {
          "output_type": "execute_result",
          "data": {
            "text/plain": [
              "<matplotlib.image.AxesImage at 0x7f2ec3b56e50>"
            ]
          },
          "metadata": {},
          "execution_count": 51
        },
        {
          "output_type": "display_data",
          "data": {
            "text/plain": [
              "<Figure size 432x288 with 1 Axes>"
            ],
            "image/png": "[encoded data removed]"
          },
          "metadata": {
            "needs_background": "light"
          }
        }
      ]
    },
    {
      "cell_type": "code",
      "source": [
        "%pwd"
      ],
      "metadata": {
        "colab": {
          "base_uri": "https://localhost:8080/",
          "height": 35
        },
        "id": "C5qzrjwoW7mQ",
        "outputId": "9d57ab0b-30ac-4dcb-b8f3-d62c51cf7e11"
      },
      "execution_count": 42,
      "outputs": [
        {
          "output_type": "execute_result",
          "data": {
            "text/plain": [
              "'/content/gdrive/MyDrive/2023Spring/visualize3d'"
            ],
            "application/vnd.google.colaboratory.intrinsic+json": {
              "type": "string"
            }
          },
          "metadata": {},
          "execution_count": 42
        }
      ]
    },
    {
      "cell_type": "code",
      "source": [
        "output_path = \"output/single_mesh_render_cow.png\"\n",
        "plt.imsave(output_path, image)"
      ],
      "metadata": {
        "id": "AH41Rh1JWwzF"
      },
      "execution_count": 43,
      "outputs": []
    },
    {
      "cell_type": "markdown",
      "source": [
        "## Render rotating GIF"
      ],
      "metadata": {
        "id": "0VqF9HxKPba1"
      }
    },
    {
      "cell_type": "code",
      "source": [
        "import imageio\n",
        "import numpy as np\n",
        "import pytorch3d\n",
        "import torch\n",
        "from PIL import Image, ImageDraw\n",
        "from tqdm.auto import tqdm\n",
        "import mcubes\n",
        "\n",
        "from pytorch3d.ops import cubify\n",
        "from pytorch3d.io import load_obj\n",
        "\n",
        "\n",
        "# rotate mesh\n",
        "def vis_mesh_360(num_frames=20,\n",
        "                 duration=3,\n",
        "                 device=None,\n",
        "                 output_path=\"output/voxel_test.gif\",\n",
        "                 vertices=None,\n",
        "                 faces=None,\n",
        "                 texture=None,\n",
        "                 image_size=256,\n",
        "                 R_relative=None,\n",
        "                 T_relative=None,\n",
        "                  ):\n",
        "    \n",
        "    # Set device\n",
        "    if device is None:\n",
        "        # device = get_device()\n",
        "        if torch.cuda.is_available():\n",
        "          torch.set_default_tensor_type('torch.cuda.FloatTensor')\n",
        "        device = get_device()\n",
        "\n",
        "    # set texture\n",
        "    if texture != None: # if texture is given, use texture\n",
        "        texture_rgb = texture.to(device)\n",
        "        texture = pytorch3d.renderer.TexturesVertex(texture_rgb)\n",
        "    else: # otherwise set default texture \n",
        "        texture_rgb = torch.ones_like(vertices).to(device)\n",
        "        texture_rgb = texture_rgb * torch.tensor([0.7, 0.7, 1])\n",
        "        texture = pytorch3d.renderer.TexturesVertex(texture_rgb)\n",
        "\n",
        "    # set renderer, lights, camera\n",
        "    renderer = get_mesh_renderer(image_size=image_size, device=device)\n",
        "    lights = pytorch3d.renderer.PointLights(location=[[0.0, 0.0, -3.0]], device=device)\n",
        "\n",
        "    R = torch.eye(3).unsqueeze(0)\n",
        "    T = torch.tensor([[0., 0., 3.]])\n",
        "\n",
        "    if R_relative != None:\n",
        "        R = R_relative @ R\n",
        "    if T_relative != None:\n",
        "        if R_relative !=None:\n",
        "            T = R_relative @ T + T_relative\n",
        "        else: \n",
        "            T = T + T_relative\n",
        "\n",
        "    cameras = pytorch3d.renderer.FoVPerspectiveCameras(\n",
        "                                                        R=R,\n",
        "                                                        T=T,\n",
        "                                                        fov=60,\n",
        "                                                        device=device,\n",
        "                                                    )\n",
        "    \n",
        "    # Rotate mesh\n",
        "    rot_angles = torch.linspace(0, 360, num_frames)\n",
        "    renders = []\n",
        "    for ang in tqdm(rot_angles):\n",
        "        rel_rot = pytorch3d.transforms.euler_angles_to_matrix(\n",
        "                    torch.tensor([0, torch.deg2rad(ang), 0]), \"XYZ\")\n",
        "        rot_mesh = pytorch3d.structures.Meshes(\n",
        "                        verts=vertices.to(device) @ rel_rot.to(device),\n",
        "                        faces=faces.to(device),\n",
        "                        textures=texture,).to(device)\n",
        "        rend = renderer(rot_mesh, cameras=cameras, lights=lights) # (1, N, H, W, 3)\n",
        "        rend = rend[0, ..., :3].cpu().detach().numpy()  # (N, H, W, 3)\n",
        "        renders.append(rend)\n",
        "\n",
        "    # Create gif\n",
        "    images = []\n",
        "    for i, r in enumerate(renders):\n",
        "        image = Image.fromarray((r * 255).astype(np.uint8))\n",
        "        draw = ImageDraw.Draw(image)\n",
        "        draw.text((20, 20), f\"rotation_angle: {rot_angles[i]:.2f}\", fill=(255, 0, 0))\n",
        "        images.append(np.array(image))\n",
        "    imageio.mimsave(output_path, images, fps=(num_frames / duration))"
      ],
      "metadata": {
        "id": "3hw_vRiJSyCG"
      },
      "execution_count": 54,
      "outputs": []
    },
    {
      "cell_type": "code",
      "source": [
        "verts, faces = get_vf_from_obj(\"data/cow.obj\")\n",
        "vis_mesh_360(\n",
        "        vertices = verts,\n",
        "        faces = faces,\n",
        "        image_size=256,\n",
        "        num_frames=20,\n",
        "        duration=3,\n",
        "        device=None,\n",
        "        output_path=\"output/rotate_mesh_cow.gif\",\n",
        "        texture=None,\n",
        "        R_relative=None,\n",
        "        T_relative=None\n",
        "    )"
      ],
      "metadata": {
        "colab": {
          "base_uri": "https://localhost:8080/",
          "height": 49,
          "referenced_widgets": [
            "00d9b892d038497e8b613c3b97f521de",
            "8b39374ee3cd4d8cac4de55c6b8f4313",
            "0b0132db253a49e787e14f5871a1f79d",
            "7c4d156f5feb40ca92d2f9cef0c4708d",
            "7da9dc2992d64bb6a1edd7cf8547b56c",
            "5a023054d522496a9509b7c5f755d249",
            "9436530cd9d4481ca1808d57659997e5",
            "7a60b615697c4e9faa8fe592b5b6f369",
            "bedcbc88a77347f2a87ad49daf7653a9",
            "b21db129d0404998a360202927e6032f",
            "102818d7f4d9402281ccb79c7ed987ad"
          ]
        },
        "id": "1u51a2kccEmg",
        "outputId": "29554281-894d-4066-a74c-c738590e921f"
      },
      "execution_count": 55,
      "outputs": [
        {
          "output_type": "display_data",
          "data": {
            "text/plain": [
              "  0%|          | 0/20 [00:00<?, ?it/s]"
            ],
            "application/vnd.jupyter.widget-view+json": {
              "version_major": 2,
              "version_minor": 0,
              "model_id": "00d9b892d038497e8b613c3b97f521de"
            }
          },
          "metadata": {}
        }
      ]
    },
    {
      "cell_type": "markdown",
      "source": [
        "# Render Voxel"
      ],
      "metadata": {
        "id": "4CwJ_8jYfT6J"
      }
    },
    {
      "cell_type": "code",
      "source": [
        "'''Sample Voxels'''\n",
        "def sample_voxels():\n",
        "  # prepare some coordinates\n",
        "  x, y, z = np.indices((8, 8, 8))\n",
        "\n",
        "  # draw cuboids in the top left and bottom right corners, and a link between\n",
        "  # them\n",
        "  cube1 = (x < 3) & (y < 3) & (z < 3)\n",
        "  cube2 = (x >= 5) & (y >= 5) & (z >= 5)\n",
        "  link = abs(x - y) + abs(y - z) + abs(z - x) <= 2\n",
        "\n",
        "  # combine the objects into a single boolean array\n",
        "  voxelarray = cube1 | cube2 | link\n",
        "  voxelarray = torch.from_numpy(voxelarray) # (D, H, W)\n",
        "  voxelarray = voxelarray.unsqueeze(0)# (N, D, H, W)\n",
        "  # print(voxelarray.shape)\n",
        "  return voxelarray"
      ],
      "metadata": {
        "id": "MYK_THHHg84z"
      },
      "execution_count": 68,
      "outputs": []
    },
    {
      "cell_type": "code",
      "source": [
        "sample_voxels()"
      ],
      "metadata": {
        "colab": {
          "base_uri": "https://localhost:8080/"
        },
        "id": "UizKsbbzhIrQ",
        "outputId": "e67912a6-3fb8-4777-a9ea-9475edb66826"
      },
      "execution_count": 69,
      "outputs": [
        {
          "output_type": "stream",
          "name": "stdout",
          "text": [
            "torch.Size([1, 8, 8, 8])\n"
          ]
        },
        {
          "output_type": "execute_result",
          "data": {
            "text/plain": [
              "tensor([[[[ True,  True,  True, False, False, False, False, False],\n",
              "          [ True,  True,  True, False, False, False, False, False],\n",
              "          [ True,  True,  True, False, False, False, False, False],\n",
              "          [False, False, False, False, False, False, False, False],\n",
              "          [False, False, False, False, False, False, False, False],\n",
              "          [False, False, False, False, False, False, False, False],\n",
              "          [False, False, False, False, False, False, False, False],\n",
              "          [False, False, False, False, False, False, False, False]],\n",
              "\n",
              "         [[ True,  True,  True, False, False, False, False, False],\n",
              "          [ True,  True,  True, False, False, False, False, False],\n",
              "          [ True,  True,  True, False, False, False, False, False],\n",
              "          [False, False, False, False, False, False, False, False],\n",
              "          [False, False, False, False, False, False, False, False],\n",
              "          [False, False, False, False, False, False, False, False],\n",
              "          [False, False, False, False, False, False, False, False],\n",
              "          [False, False, False, False, False, False, False, False]],\n",
              "\n",
              "         [[ True,  True,  True, False, False, False, False, False],\n",
              "          [ True,  True,  True, False, False, False, False, False],\n",
              "          [ True,  True,  True,  True, False, False, False, False],\n",
              "          [False, False,  True,  True, False, False, False, False],\n",
              "          [False, False, False, False, False, False, False, False],\n",
              "          [False, False, False, False, False, False, False, False],\n",
              "          [False, False, False, False, False, False, False, False],\n",
              "          [False, False, False, False, False, False, False, False]],\n",
              "\n",
              "         [[False, False, False, False, False, False, False, False],\n",
              "          [False, False, False, False, False, False, False, False],\n",
              "          [False, False,  True,  True, False, False, False, False],\n",
              "          [False, False,  True,  True,  True, False, False, False],\n",
              "          [False, False, False,  True,  True, False, False, False],\n",
              "          [False, False, False, False, False, False, False, False],\n",
              "          [False, False, False, False, False, False, False, False],\n",
              "          [False, False, False, False, False, False, False, False]],\n",
              "\n",
              "         [[False, False, False, False, False, False, False, False],\n",
              "          [False, False, False, False, False, False, False, False],\n",
              "          [False, False, False, False, False, False, False, False],\n",
              "          [False, False, False,  True,  True, False, False, False],\n",
              "          [False, False, False,  True,  True,  True, False, False],\n",
              "          [False, False, False, False,  True,  True, False, False],\n",
              "          [False, False, False, False, False, False, False, False],\n",
              "          [False, False, False, False, False, False, False, False]],\n",
              "\n",
              "         [[False, False, False, False, False, False, False, False],\n",
              "          [False, False, False, False, False, False, False, False],\n",
              "          [False, False, False, False, False, False, False, False],\n",
              "          [False, False, False, False, False, False, False, False],\n",
              "          [False, False, False, False,  True,  True, False, False],\n",
              "          [False, False, False, False,  True,  True,  True,  True],\n",
              "          [False, False, False, False, False,  True,  True,  True],\n",
              "          [False, False, False, False, False,  True,  True,  True]],\n",
              "\n",
              "         [[False, False, False, False, False, False, False, False],\n",
              "          [False, False, False, False, False, False, False, False],\n",
              "          [False, False, False, False, False, False, False, False],\n",
              "          [False, False, False, False, False, False, False, False],\n",
              "          [False, False, False, False, False, False, False, False],\n",
              "          [False, False, False, False, False,  True,  True,  True],\n",
              "          [False, False, False, False, False,  True,  True,  True],\n",
              "          [False, False, False, False, False,  True,  True,  True]],\n",
              "\n",
              "         [[False, False, False, False, False, False, False, False],\n",
              "          [False, False, False, False, False, False, False, False],\n",
              "          [False, False, False, False, False, False, False, False],\n",
              "          [False, False, False, False, False, False, False, False],\n",
              "          [False, False, False, False, False, False, False, False],\n",
              "          [False, False, False, False, False,  True,  True,  True],\n",
              "          [False, False, False, False, False,  True,  True,  True],\n",
              "          [False, False, False, False, False,  True,  True,  True]]]])"
            ]
          },
          "metadata": {},
          "execution_count": 69
        }
      ]
    },
    {
      "cell_type": "code",
      "source": [
        "'''\n",
        "Visualize Voxels\n",
        "voxels: A FloatTensor of shape (N, D, H, W) containing occupancy probabilities.\n",
        "https://pytorch3d.readthedocs.io/en/latest/_modules/pytorch3d/ops/cubify.html\n",
        "\n",
        "'''\n",
        "def vis_voxel_360(\n",
        "        voxels, # tensor (size, size, size)\n",
        "        voxel_size=32,\n",
        "        image_size=256,\n",
        "        num_frames=20,\n",
        "        duration=3,\n",
        "        device=None,\n",
        "        output_path='output/rotate_voxel_cubes.gif',\n",
        "        R_relative=None,\n",
        "        T_relative=None,\n",
        "):\n",
        "    if device is None:\n",
        "        # device = get_device()\n",
        "        if torch.cuda.is_available():\n",
        "          torch.set_default_tensor_type('torch.cuda.FloatTensor')\n",
        "        device = get_device()\n",
        "\n",
        "    # Converts voxels in to mesh\n",
        "    voxels = voxels.to(device)\n",
        "    mesh = cubify(voxels, thresh=0.8).to(device)\n",
        "    vertices, faces = mesh.verts_list()[0].unsqueeze(0), mesh.faces_list()[0].unsqueeze(0)\n",
        "\n",
        "    vis_mesh_360(num_frames=num_frames, \n",
        "                 duration=duration,\n",
        "                 device=device,\n",
        "                 output_path=output_path,\n",
        "                 vertices=vertices,\n",
        "                 faces = faces,\n",
        "                 image_size=image_size,\n",
        "                 R_relative=R_relative,\n",
        "                 T_relative=T_relative)"
      ],
      "metadata": {
        "id": "xZJ9zaCFPa_H"
      },
      "execution_count": 74,
      "outputs": []
    },
    {
      "cell_type": "code",
      "source": [
        "voxels = sample_voxels()\n",
        "vis_voxel_360(voxels)"
      ],
      "metadata": {
        "colab": {
          "base_uri": "https://localhost:8080/",
          "height": 67,
          "referenced_widgets": [
            "9ca472a799b94688804f45b9113ce72c",
            "5fbea0ac43114671b181d37672c2d0be",
            "f0d85c84023542939fb8d3bc5e364b6f",
            "caa57791703a4f6ab709a27622b078fb",
            "9862c030e26145e2b4a2552ac66c3662",
            "c17ea521670d4753893c781d4e4716f7",
            "94a6d46ff41041ee951b111870c3888f",
            "94381f020902444c82a728aa80cf8e3a",
            "0bd64e1d236f4d3a8996b0b9c994d8e3",
            "cff60625fcfb47a0931779ee9e594203",
            "2f8c5e35f5b541c18f4e5bb12a4578e6"
          ]
        },
        "id": "pbkm_oL8Pgie",
        "outputId": "82e36562-a540-4901-8e94-59da2accf456"
      },
      "execution_count": 75,
      "outputs": [
        {
          "output_type": "stream",
          "name": "stdout",
          "text": [
            "torch.Size([1, 8, 8, 8])\n"
          ]
        },
        {
          "output_type": "display_data",
          "data": {
            "text/plain": [
              "  0%|          | 0/20 [00:00<?, ?it/s]"
            ],
            "application/vnd.jupyter.widget-view+json": {
              "version_major": 2,
              "version_minor": 0,
              "model_id": "9ca472a799b94688804f45b9113ce72c"
            }
          },
          "metadata": {}
        }
      ]
    }
  ]
}